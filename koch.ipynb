{
 "cells": [
  {
   "cell_type": "code",
   "execution_count": 1,
   "id": "ed35db85",
   "metadata": {},
   "outputs": [],
   "source": [
    "import turtle"
   ]
  },
  {
   "cell_type": "code",
   "execution_count": 2,
   "id": "3c893991",
   "metadata": {},
   "outputs": [],
   "source": [
    "window = turtle.Screen()"
   ]
  },
  {
   "cell_type": "code",
   "execution_count": null,
   "id": "4d64ad0e",
   "metadata": {
    "pycharm": {
     "is_executing": true
    }
   },
   "outputs": [],
   "source": [
    "turtle.penup()\n",
    "turtle.goto(x=-200, y=150)\n",
    "\n",
    "def koch(lengthSide, levels): \n",
    "    if levels == 0: \n",
    "        turtle.forward(lengthSide) \n",
    "        return\n",
    "    lengthSide /= 2.5\n",
    "    koch(lengthSide, levels-1) \n",
    "    turtle.left(60) \n",
    "    koch(lengthSide, levels-1) \n",
    "    turtle.right(120) \n",
    "    koch(lengthSide, levels-1) \n",
    "    turtle.left(60) \n",
    "    koch(lengthSide, levels-1) \n",
    "  \n",
    "\n",
    "if __name__ == \"__main__\": \n",
    "\n",
    "    turtle.speed(9999)\n",
    "    length = 300.0\n",
    "  \n",
    "            \n",
    "    turtle.penup()                      \n",
    "  \n",
    "    turtle.backward(length/2.0) \n",
    "  \n",
    "    turtle.pendown()            \n",
    "    for i in range(3):     \n",
    "        koch(length, 4) \n",
    "        turtle.right(120) \n",
    "  \n",
    "    turtle.mainloop()\n",
    "    exit(0)"
   ]
  }
 ],
 "metadata": {
  "kernelspec": {
   "display_name": "Python 3 (ipykernel)",
   "language": "python",
   "name": "python3"
  },
  "language_info": {
   "codemirror_mode": {
    "name": "ipython",
    "version": 3
   },
   "file_extension": ".py",
   "mimetype": "text/x-python",
   "name": "python",
   "nbconvert_exporter": "python",
   "pygments_lexer": "ipython3",
   "version": "3.9.7"
  },
  "vscode": {
   "interpreter": {
    "hash": "b0fa6594d8f4cbf19f97940f81e996739fb7646882a419484c72d19e05852a7e"
   }
  }
 },
 "nbformat": 4,
 "nbformat_minor": 5
}
